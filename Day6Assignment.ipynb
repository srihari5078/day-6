{
 "cells": [
  {
   "cell_type": "code",
   "execution_count": null,
   "metadata": {},
   "outputs": [],
   "source": [
    "#Problem 1\n",
    "class bankAccount():\n",
    "    def __init__(self,name,bal):\n",
    "        self.ownerName=name\n",
    "        self.balance=bal\n",
    "    def deposit(self,amount):\n",
    "        if(amount<1):\n",
    "            print(\"Deposit failed: Invalid amount.\")\n",
    "        else:\n",
    "            self.balance+=amount\n",
    "            print(\"Dear\",self.ownerName,\", successfully deposited Rs:\",amount)\n",
    "            print(\"Account balance:\",self.balance)\n",
    "    def withdraw(self,amount):\n",
    "        if(amount>self.balance):\n",
    "            print(\"Can't Withdraw: Insufficient Balance.\")\n",
    "        elif(amount<1):\n",
    "            print(\"Can't Withdraw: Invalid amount.\")\n",
    "        elif(amount<=self.balance):\n",
    "            self.balance-=amount\n",
    "            print(\"Dear\",self.ownerName,\",successfully withdrawn Rs:\",amount)\n",
    "            print(\"Account balance:\",self.balance)\n",
    "a=bankAccount(\"hari\",45000)\n",
    "a.deposit(2000)\n",
    "a.withdraw(50000)\n",
    "a.withdraw(7000)\n",
    "a.deposit(10000)"
   ]
  },
  {
   "cell_type": "code",
   "execution_count": null,
   "metadata": {},
   "outputs": [],
   "source": [
    "#problem 2\n",
    "class cone:\n",
    "    def __init__(self,R,H):\n",
    "        self.height=H\n",
    "        self.radius=R\n",
    "    def volume(self):\n",
    "        vol=3.14*(self.radius**2)*(self.height/3)\n",
    "        return vol\n",
    "    def surfaceArea(self):\n",
    "        sa=(3.14*self.radius)*(self.radius+(((self.height**2)+(self.radius**2))**0.5))\n",
    "        return sa"
   ]
  }
 ],
 "metadata": {
  "kernelspec": {
   "display_name": "Python 3",
   "language": "python",
   "name": "python3"
  },
  "language_info": {
   "codemirror_mode": {
    "name": "ipython",
    "version": 3
   },
   "file_extension": ".py",
   "mimetype": "text/x-python",
   "name": "python",
   "nbconvert_exporter": "python",
   "pygments_lexer": "ipython3",
   "version": "3.8.5"
  }
 },
 "nbformat": 4,
 "nbformat_minor": 4
}
